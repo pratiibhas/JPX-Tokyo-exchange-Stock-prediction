{
 "cells": [
  {
   "cell_type": "markdown",
   "metadata": {},
   "source": [
    "# Feature engineering and model building"
   ]
  },
  {
   "cell_type": "markdown",
   "metadata": {},
   "source": [
    "## feature engineering"
   ]
  },
  {
   "cell_type": "code",
   "execution_count": 14,
   "metadata": {
    "execution": {
     "iopub.execute_input": "2025-05-13T07:29:56.393870Z",
     "iopub.status.busy": "2025-05-13T07:29:56.393498Z",
     "iopub.status.idle": "2025-05-13T07:29:56.405349Z",
     "shell.execute_reply": "2025-05-13T07:29:56.404010Z",
     "shell.execute_reply.started": "2025-05-13T07:29:56.393825Z"
    },
    "trusted": true
   },
   "outputs": [],
   "source": [
    "def Moving_average(series,n):\n",
    "    return series.rolling(n,min_periods=1).mean()\n",
    "\n",
    "def divergence(series, window=25):\n",
    "    std = series.rolling(window, min_periods=1).std()\n",
    "    mean = series.rolling(window, min_periods=1).mean()\n",
    "    return (series - mean) / std\n",
    "    \n",
    "def rsi(series, n=14):\n",
    "    return (series - series.shift(1)).rolling(n).apply(lambda s:s[s>0].sum()/abs(s).sum())\n",
    "    \n",
    "def Daily_returns(df):\n",
    "    return (df['Close'] - df['Open']) / df['Open']\n",
    "\n",
    "def Normalized_volume(n):\n",
    "    return df['Volume'] / df['Volume'].rolling(n,min_periods=1).mean()\n",
    "\n",
    "\n",
    "def DMA(series, window=25):\n",
    "    return series/Moving_average(series, window) - 1"
   ]
  },
  {
   "cell_type": "code",
   "execution_count": 15,
   "metadata": {
    "execution": {
     "iopub.execute_input": "2025-05-13T07:29:56.407281Z",
     "iopub.status.busy": "2025-05-13T07:29:56.406865Z",
     "iopub.status.idle": "2025-05-13T07:29:56.422935Z",
     "shell.execute_reply": "2025-05-13T07:29:56.421563Z",
     "shell.execute_reply.started": "2025-05-13T07:29:56.407246Z"
    },
    "trusted": true
   },
   "outputs": [],
   "source": [
    "'''The stochastic function calculates the Stochastic Oscillator, a momentum indicator used in technical analysis \n",
    "to determine the relative position of the current closing price compared to its price range over a given period.\n",
    "The function also computes two smoothed versions of this indicator, \n",
    "often referred to as the Fast %D and Slow %D lines, which are used for trend analysis and trading signals.'''\n",
    "def stochastic(series, k=14, n=3, m=3):\n",
    "    _min = series.rolling(k).min()\n",
    "    _max = series.rolling(k).max()\n",
    "    _k = (series - _min)/(_max - _min)\n",
    "    _d1 = _k.rolling(n).mean()\n",
    "    _d2 = _d1.rolling(m).mean()\n",
    "    return pd.DataFrame({\n",
    "                    \"%K\":_k,\n",
    "                    \"FAST-%D\":_d1,\n",
    "                    \"SLOW-%D\":_d2,\n",
    "                    },index=series.index)\n",
    "def psy(series, n=14):\n",
    "    return (series - series.shift(1)).rolling(n).apply(lambda s:(s>=0).mean())\n",
    "\n",
    "def ICH(series):\n",
    "    conv = series.rolling(9).apply(lambda s:(s.max()+s.min())/2)\n",
    "    base = series.rolling(26).apply(lambda s:(s.max()+s.min())/2)\n",
    "    pre1 = ((conv + base)/2).shift(25)\n",
    "    pre2 = d.Close_adj.rolling(52).apply(lambda s:(s.max()+s.min())/2).shift(25)\n",
    "    lagg = d.Close_adj.shift(25)\n",
    "    return conv, base, pre1, pre2, lagg\n",
    "\n",
    "def roc(series, window=14):\n",
    "    return series/series.shift(window) - 1\n",
    "    \n",
    "class FeatureBase():\n",
    "    def create_feature(self,d):\n",
    "        assert False, \"NotImplemented\"\n",
    "    "
   ]
  },
  {
   "cell_type": "code",
   "execution_count": 16,
   "metadata": {
    "execution": {
     "iopub.execute_input": "2025-05-13T07:29:56.424602Z",
     "iopub.status.busy": "2025-05-13T07:29:56.424281Z",
     "iopub.status.idle": "2025-05-13T07:29:56.444426Z",
     "shell.execute_reply": "2025-05-13T07:29:56.443155Z",
     "shell.execute_reply.started": "2025-05-13T07:29:56.424569Z"
    },
    "trusted": true
   },
   "outputs": [],
   "source": [
    "class MAFeature(FeatureBase):\n",
    "    def create_feature(self, d):\n",
    "        return self._create_feature(d[\"Close_adj\"])\n",
    "\n",
    "    def _create_feature(self, series, window1=5, window2=25):\n",
    "        ma1 = Moving_average(series, window1).rename(\"MA1\")\n",
    "        ma2 = Moving_average(series, window2).rename(\"MA2\")\n",
    "        diff = ma1 - ma2\n",
    "        cross = pd.Series(\n",
    "                        np.where((diff>0) & (diff<0).shift().fillna(False), 1,\n",
    "                            np.where((diff<0) & (diff>0).shift().fillna(False), -1, 0\n",
    "                                )\n",
    "                        ),\n",
    "                        index = series.index, name=\"MA_Cross\"\n",
    "                )\n",
    "        return pd.concat([ma1, ma2, cross], axis=1)\n"
   ]
  },
  {
   "cell_type": "code",
   "execution_count": 17,
   "metadata": {
    "execution": {
     "iopub.execute_input": "2025-05-13T07:29:56.446108Z",
     "iopub.status.busy": "2025-05-13T07:29:56.445678Z",
     "iopub.status.idle": "2025-05-13T07:29:56.467854Z",
     "shell.execute_reply": "2025-05-13T07:29:56.466462Z",
     "shell.execute_reply.started": "2025-05-13T07:29:56.446063Z"
    },
    "trusted": true
   },
   "outputs": [],
   "source": [
    "import datetime\n",
    "def holiday(d):\n",
    "    # Ensure 'Date' is a datetime column\n",
    "    d['Date'] = pd.to_datetime(d['Date'])\n",
    "    \n",
    "    #  the 'weekday' column (0 = Monday, 6 = Sunday)\n",
    "    d['weekday'] = d['Date'].dt.weekday\n",
    "    \n",
    "    # Creating the before_holiday and after_holiday columns\n",
    "    return pd.DataFrame({\n",
    "        \"before_holiday\": (d[\"Date\"] != d[\"Date\"].shift(-1) - datetime.timedelta(days=1)) | (d[\"weekday\"] == 4),\n",
    "        \"after_holiday\": (d[\"Date\"] != d[\"Date\"].shift(1) + datetime.timedelta(days=1)) | (d[\"weekday\"] == 0)\n",
    "    }, index=d.index)\n"
   ]
  },
  {
   "cell_type": "code",
   "execution_count": 18,
   "metadata": {
    "execution": {
     "iopub.execute_input": "2025-05-13T07:29:56.470183Z",
     "iopub.status.busy": "2025-05-13T07:29:56.469766Z",
     "iopub.status.idle": "2025-05-13T07:29:56.493072Z",
     "shell.execute_reply": "2025-05-13T07:29:56.491912Z",
     "shell.execute_reply.started": "2025-05-13T07:29:56.470137Z"
    },
    "trusted": true
   },
   "outputs": [],
   "source": [
    "def make_features(df):\n",
    "    df=df[[\n",
    "        \"Date\",\"SecuritiesCode\",\"Open\",\"Close\",\"AdjustmentFactor\",\n",
    "        \"Volume\"\n",
    "    ]].copy()\n",
    "    df[\"weekday\"] = df[\"Date\"].dt.weekday\n",
    "    holiday_info = holiday(df)\n",
    "    df = df.join(holiday_info)\n",
    "   \n",
    "    # Volume ratio indicates unusual trading activity by comapring it to the average volume of the last 15 days\n",
    "    df[\"Volume_ratio\"] = df[\"Volume\"]/df.groupby(\"SecuritiesCode\")[\"Volume\"].rolling(window=15, min_periods=1).mean().reset_index(\"SecuritiesCode\",drop=True)\n",
    "\n",
    "    # Adjusted closing price to account for stock splits,dividend and other corporate actions by dividing the raw price by the cumulative adjustment factor\n",
    "    df[\"Close_adj\"] = (df.groupby(\"SecuritiesCode\")[[\"Close\", \"AdjustmentFactor\"]].apply(lambda d: d[\"Close\"] / d[\"AdjustmentFactor\"].cumprod().shift().fillna(1))\n",
    "        .reset_index(level=0, drop=True))\n",
    "\n",
    "    df[[\"MA1\", \"MA2\", \"MA_Cross\"]] = (df.groupby(\"SecuritiesCode\").apply(lambda d: MAFeature()._create_feature(d[\"Close_adj\"]), include_groups=False)\n",
    "    .reset_index(level=0, drop=True))\n",
    "    \n",
    "    df[\"Diff\"] = (df[\"Close\"] - df[\"Open\"]) / df[[\"Close\",\"Open\"]].mean(axis=1)\n",
    "    df[\"Diff_MA1\"] = df[\"Close_adj\"] - df[\"MA1\"]\n",
    "    df[\"Diff_MA2\"] = df[\"Close_adj\"] - df[\"MA2\"]\n",
    "    for i in range(1, 3):\n",
    "        df[\"MA_Cross_lag_{:}\".format(i)] = df.groupby(\"SecuritiesCode\")[\"MA_Cross\"].shift(i)\n",
    "        \n",
    "    df[\"DivMA\"] = df.groupby(\"SecuritiesCode\")[\"Close_adj\"].apply(DMA).reset_index(level=0, drop=True)\n",
    "    df[\"Div\"] = df.groupby(\"SecuritiesCode\")[\"Close_adj\"].apply(divergence).reset_index(level=0, drop=True)\n",
    "    df[\"Rsi\"] = df.groupby(\"SecuritiesCode\")[\"Close_adj\"].apply(rsi).reset_index(level=0, drop=True)\n",
    "    df = df.join(df.groupby(\"SecuritiesCode\")[\"Close_adj\"].apply(stochastic).reset_index(level=0, drop=True))\n",
    "\n",
    "    return df"
   ]
  },
  {
   "cell_type": "code",
   "execution_count": 19,
   "metadata": {
    "execution": {
     "iopub.execute_input": "2025-05-13T07:29:56.494699Z",
     "iopub.status.busy": "2025-05-13T07:29:56.494353Z",
     "iopub.status.idle": "2025-05-13T07:31:13.639009Z",
     "shell.execute_reply": "2025-05-13T07:31:13.638013Z",
     "shell.execute_reply.started": "2025-05-13T07:29:56.494643Z"
    },
    "trusted": true
   },
   "outputs": [
    {
     "name": "stderr",
     "output_type": "stream",
     "text": [
      "/tmp/ipykernel_24/3243037919.py:10: FutureWarning: Downcasting object dtype arrays on .fillna, .ffill, .bfill is deprecated and will change in a future version. Call result.infer_objects(copy=False) instead. To opt-in to the future behavior, set `pd.set_option('future.no_silent_downcasting', True)`\n",
      "  np.where((diff>0) & (diff<0).shift().fillna(False), 1,\n",
      "/tmp/ipykernel_24/3243037919.py:11: FutureWarning: Downcasting object dtype arrays on .fillna, .ffill, .bfill is deprecated and will change in a future version. Call result.infer_objects(copy=False) instead. To opt-in to the future behavior, set `pd.set_option('future.no_silent_downcasting', True)`\n",
      "  np.where((diff<0) & (diff>0).shift().fillna(False), -1, 0\n"
     ]
    }
   ],
   "source": [
    "df=make_features(stocks)"
   ]
  },
  {
   "cell_type": "code",
   "execution_count": 20,
   "metadata": {
    "execution": {
     "iopub.execute_input": "2025-05-13T07:31:13.640521Z",
     "iopub.status.busy": "2025-05-13T07:31:13.640210Z",
     "iopub.status.idle": "2025-05-13T07:31:13.647638Z",
     "shell.execute_reply": "2025-05-13T07:31:13.646551Z",
     "shell.execute_reply.started": "2025-05-13T07:31:13.640491Z"
    },
    "trusted": true
   },
   "outputs": [
    {
     "data": {
      "text/plain": [
       "Index(['Date', 'SecuritiesCode', 'Open', 'Close', 'AdjustmentFactor', 'Volume',\n",
       "       'weekday', 'before_holiday', 'after_holiday', 'Volume_ratio',\n",
       "       'Close_adj', 'MA1', 'MA2', 'MA_Cross', 'Diff', 'Diff_MA1', 'Diff_MA2',\n",
       "       'MA_Cross_lag_1', 'MA_Cross_lag_2', 'DivMA', 'Div', 'Rsi', '%K',\n",
       "       'FAST-%D', 'SLOW-%D'],\n",
       "      dtype='object')"
      ]
     },
     "execution_count": 20,
     "metadata": {},
     "output_type": "execute_result"
    }
   ],
   "source": [
    "df.columns"
   ]
  },
  {
   "cell_type": "markdown",
   "metadata": {},
   "source": [
    "## Building a machine learnig model and training our model"
   ]
  },
  {
   "cell_type": "markdown",
   "metadata": {},
   "source": [
    "### Prepare the Feature Set"
   ]
  },
  {
   "cell_type": "code",
   "execution_count": 51,
   "metadata": {
    "trusted": true
   },
   "outputs": [
    {
     "data": {
      "text/plain": [
       "0         0.031639\n",
       "1        -0.056027\n",
       "2         0.013462\n",
       "3         0.032680\n",
       "4         0.032568\n",
       "            ...   \n",
       "261892    0.036298\n",
       "261893    0.027743\n",
       "261894    0.009993\n",
       "261895    0.006051\n",
       "261896    0.027656\n",
       "Name: Target, Length: 260566, dtype: float64"
      ]
     },
     "execution_count": 51,
     "metadata": {},
     "output_type": "execute_result"
    }
   ],
   "source": [
    "df[\"Target\"] = df.groupby(\"SecuritiesCode\")[\"Close_adj\"].shift(-1) / df[\"Close_adj\"] - 1\n",
    "# we want to predict next-day return based on today’s features"
   ]
  },
  {
   "cell_type": "code",
   "execution_count": 53,
   "metadata": {
    "execution": {
     "iopub.execute_input": "2025-05-13T07:43:49.180913Z",
     "iopub.status.busy": "2025-05-13T07:43:49.180308Z",
     "iopub.status.idle": "2025-05-13T07:43:49.187276Z",
     "shell.execute_reply": "2025-05-13T07:43:49.185704Z",
     "shell.execute_reply.started": "2025-05-13T07:43:49.180862Z"
    },
    "trusted": true
   },
   "outputs": [],
   "source": [
    "target_col = \"Target\"\n",
    "feature_cols = [col for col in df.columns if col != target_col and col != \"Date\"]\n"
   ]
  },
  {
   "cell_type": "code",
   "execution_count": 54,
   "metadata": {
    "execution": {
     "iopub.execute_input": "2025-05-13T07:43:52.185397Z",
     "iopub.status.busy": "2025-05-13T07:43:52.185009Z",
     "iopub.status.idle": "2025-05-13T07:43:52.194962Z",
     "shell.execute_reply": "2025-05-13T07:43:52.193617Z",
     "shell.execute_reply.started": "2025-05-13T07:43:52.185365Z"
    },
    "trusted": true
   },
   "outputs": [
    {
     "data": {
      "text/plain": [
       "0        2021-12-06\n",
       "1        2021-12-06\n",
       "2        2021-12-06\n",
       "3        2021-12-06\n",
       "4        2021-12-06\n",
       "            ...    \n",
       "261892   2022-06-20\n",
       "261893   2022-06-20\n",
       "261894   2022-06-20\n",
       "261895   2022-06-20\n",
       "261896   2022-06-20\n",
       "Name: Date, Length: 260566, dtype: datetime64[ns]"
      ]
     },
     "execution_count": 54,
     "metadata": {},
     "output_type": "execute_result"
    }
   ],
   "source": [
    "df['Date']"
   ]
  },
  {
   "cell_type": "code",
   "execution_count": 56,
   "metadata": {
    "execution": {
     "iopub.execute_input": "2025-05-13T07:44:08.344687Z",
     "iopub.status.busy": "2025-05-13T07:44:08.344266Z",
     "iopub.status.idle": "2025-05-13T07:44:08.362741Z",
     "shell.execute_reply": "2025-05-13T07:44:08.361245Z",
     "shell.execute_reply.started": "2025-05-13T07:44:08.344628Z"
    },
    "trusted": true
   },
   "outputs": [],
   "source": [
    "X_train = train_df[feature_cols]\n",
    "y_train = train_df[target_col]\n",
    "\n",
    "X_test = test_df[feature_cols]\n",
    "y_test = test_df[target_col]"
   ]
  },
  {
   "cell_type": "code",
   "execution_count": 57,
   "metadata": {
    "trusted": true
   },
   "outputs": [
    {
     "name": "stdout",
     "output_type": "stream",
     "text": [
      "(155302, 24)\n",
      "(155302,)\n"
     ]
    }
   ],
   "source": [
    "print(X_train.shape)\n",
    "print(y_train.shape)\n"
   ]
  },
  {
   "cell_type": "markdown",
   "metadata": {},
   "source": [
    "### Train a model "
   ]
  },
  {
   "cell_type": "code",
   "execution_count": 58,
   "metadata": {
    "execution": {
     "iopub.execute_input": "2025-05-13T07:44:49.250176Z",
     "iopub.status.busy": "2025-05-13T07:44:49.249737Z",
     "iopub.status.idle": "2025-05-13T07:44:56.130298Z",
     "shell.execute_reply": "2025-05-13T07:44:56.129035Z",
     "shell.execute_reply.started": "2025-05-13T07:44:49.250138Z"
    },
    "trusted": true
   },
   "outputs": [
    {
     "name": "stdout",
     "output_type": "stream",
     "text": [
      "[LightGBM] [Info] Auto-choosing row-wise multi-threading, the overhead of testing was 0.012681 seconds.\n",
      "You can set `force_row_wise=true` to remove the overhead.\n",
      "And if memory is not enough, you can set `force_col_wise=true`.\n",
      "[LightGBM] [Info] Total Bins 4360\n",
      "[LightGBM] [Info] Number of data points in the train set: 155302, number of used features: 24\n",
      "[LightGBM] [Info] Start training from score -0.000096\n"
     ]
    },
    {
     "data": {
      "text/html": [
       "<style>#sk-container-id-1 {color: black;background-color: white;}#sk-container-id-1 pre{padding: 0;}#sk-container-id-1 div.sk-toggleable {background-color: white;}#sk-container-id-1 label.sk-toggleable__label {cursor: pointer;display: block;width: 100%;margin-bottom: 0;padding: 0.3em;box-sizing: border-box;text-align: center;}#sk-container-id-1 label.sk-toggleable__label-arrow:before {content: \"▸\";float: left;margin-right: 0.25em;color: #696969;}#sk-container-id-1 label.sk-toggleable__label-arrow:hover:before {color: black;}#sk-container-id-1 div.sk-estimator:hover label.sk-toggleable__label-arrow:before {color: black;}#sk-container-id-1 div.sk-toggleable__content {max-height: 0;max-width: 0;overflow: hidden;text-align: left;background-color: #f0f8ff;}#sk-container-id-1 div.sk-toggleable__content pre {margin: 0.2em;color: black;border-radius: 0.25em;background-color: #f0f8ff;}#sk-container-id-1 input.sk-toggleable__control:checked~div.sk-toggleable__content {max-height: 200px;max-width: 100%;overflow: auto;}#sk-container-id-1 input.sk-toggleable__control:checked~label.sk-toggleable__label-arrow:before {content: \"▾\";}#sk-container-id-1 div.sk-estimator input.sk-toggleable__control:checked~label.sk-toggleable__label {background-color: #d4ebff;}#sk-container-id-1 div.sk-label input.sk-toggleable__control:checked~label.sk-toggleable__label {background-color: #d4ebff;}#sk-container-id-1 input.sk-hidden--visually {border: 0;clip: rect(1px 1px 1px 1px);clip: rect(1px, 1px, 1px, 1px);height: 1px;margin: -1px;overflow: hidden;padding: 0;position: absolute;width: 1px;}#sk-container-id-1 div.sk-estimator {font-family: monospace;background-color: #f0f8ff;border: 1px dotted black;border-radius: 0.25em;box-sizing: border-box;margin-bottom: 0.5em;}#sk-container-id-1 div.sk-estimator:hover {background-color: #d4ebff;}#sk-container-id-1 div.sk-parallel-item::after {content: \"\";width: 100%;border-bottom: 1px solid gray;flex-grow: 1;}#sk-container-id-1 div.sk-label:hover label.sk-toggleable__label {background-color: #d4ebff;}#sk-container-id-1 div.sk-serial::before {content: \"\";position: absolute;border-left: 1px solid gray;box-sizing: border-box;top: 0;bottom: 0;left: 50%;z-index: 0;}#sk-container-id-1 div.sk-serial {display: flex;flex-direction: column;align-items: center;background-color: white;padding-right: 0.2em;padding-left: 0.2em;position: relative;}#sk-container-id-1 div.sk-item {position: relative;z-index: 1;}#sk-container-id-1 div.sk-parallel {display: flex;align-items: stretch;justify-content: center;background-color: white;position: relative;}#sk-container-id-1 div.sk-item::before, #sk-container-id-1 div.sk-parallel-item::before {content: \"\";position: absolute;border-left: 1px solid gray;box-sizing: border-box;top: 0;bottom: 0;left: 50%;z-index: -1;}#sk-container-id-1 div.sk-parallel-item {display: flex;flex-direction: column;z-index: 1;position: relative;background-color: white;}#sk-container-id-1 div.sk-parallel-item:first-child::after {align-self: flex-end;width: 50%;}#sk-container-id-1 div.sk-parallel-item:last-child::after {align-self: flex-start;width: 50%;}#sk-container-id-1 div.sk-parallel-item:only-child::after {width: 0;}#sk-container-id-1 div.sk-dashed-wrapped {border: 1px dashed gray;margin: 0 0.4em 0.5em 0.4em;box-sizing: border-box;padding-bottom: 0.4em;background-color: white;}#sk-container-id-1 div.sk-label label {font-family: monospace;font-weight: bold;display: inline-block;line-height: 1.2em;}#sk-container-id-1 div.sk-label-container {text-align: center;}#sk-container-id-1 div.sk-container {/* jupyter's `normalize.less` sets `[hidden] { display: none; }` but bootstrap.min.css set `[hidden] { display: none !important; }` so we also need the `!important` here to be able to override the default hidden behavior on the sphinx rendered scikit-learn.org. See: https://github.com/scikit-learn/scikit-learn/issues/21755 */display: inline-block !important;position: relative;}#sk-container-id-1 div.sk-text-repr-fallback {display: none;}</style><div id=\"sk-container-id-1\" class=\"sk-top-container\"><div class=\"sk-text-repr-fallback\"><pre>LGBMRegressor(learning_rate=0.01, n_estimators=500)</pre><b>In a Jupyter environment, please rerun this cell to show the HTML representation or trust the notebook. <br />On GitHub, the HTML representation is unable to render, please try loading this page with nbviewer.org.</b></div><div class=\"sk-container\" hidden><div class=\"sk-item\"><div class=\"sk-estimator sk-toggleable\"><input class=\"sk-toggleable__control sk-hidden--visually\" id=\"sk-estimator-id-1\" type=\"checkbox\" checked><label for=\"sk-estimator-id-1\" class=\"sk-toggleable__label sk-toggleable__label-arrow\">LGBMRegressor</label><div class=\"sk-toggleable__content\"><pre>LGBMRegressor(learning_rate=0.01, n_estimators=500)</pre></div></div></div></div></div>"
      ],
      "text/plain": [
       "LGBMRegressor(learning_rate=0.01, n_estimators=500)"
      ]
     },
     "execution_count": 58,
     "metadata": {},
     "output_type": "execute_result"
    }
   ],
   "source": [
    "from lightgbm import LGBMRegressor\n",
    "\n",
    "model = LGBMRegressor(n_estimators=500, learning_rate=0.01)\n",
    "model.fit(X_train, y_train)"
   ]
  },
  {
   "cell_type": "code",
   "execution_count": 59,
   "metadata": {
    "execution": {
     "iopub.execute_input": "2025-05-13T07:45:04.696865Z",
     "iopub.status.busy": "2025-05-13T07:45:04.696449Z",
     "iopub.status.idle": "2025-05-13T07:45:07.873569Z",
     "shell.execute_reply": "2025-05-13T07:45:07.872229Z",
     "shell.execute_reply.started": "2025-05-13T07:45:04.696830Z"
    },
    "trusted": true
   },
   "outputs": [],
   "source": [
    "test_df = test_df.copy()\n",
    "test_df[\"pred\"] = model.predict(X_test)\n",
    "\n",
    "# Rank stocks daily\n",
    "test_df[\"rank\"] = test_df.groupby(\"Date\")[\"pred\"].rank(ascending=False)"
   ]
  },
  {
   "cell_type": "code",
   "execution_count": 60,
   "metadata": {
    "execution": {
     "iopub.execute_input": "2025-05-13T07:45:16.046840Z",
     "iopub.status.busy": "2025-05-13T07:45:16.046413Z",
     "iopub.status.idle": "2025-05-13T07:45:16.283936Z",
     "shell.execute_reply": "2025-05-13T07:45:16.282482Z",
     "shell.execute_reply.started": "2025-05-13T07:45:16.046802Z"
    },
    "trusted": true
   },
   "outputs": [
    {
     "name": "stdout",
     "output_type": "stream",
     "text": [
      "Average daily score (Top200 - Bottom200): 0.0018035032621285983\n"
     ]
    }
   ],
   "source": [
    "daily_scores = []\n",
    "\n",
    "for date, group in test_df.groupby(\"Date\"):\n",
    "    top_200 = group.nsmallest(200, \"rank\")\n",
    "    bottom_200 = group.nlargest(200, \"rank\")\n",
    "    score = top_200[\"Target\"].mean() - bottom_200[\"Target\"].mean()\n",
    "    daily_scores.append(score)\n",
    "\n",
    "final_score = np.mean(daily_scores)\n",
    "print(\"Average daily score (Top200 - Bottom200):\", final_score)\n"
   ]
  },
  {
   "cell_type": "markdown",
   "metadata": {},
   "source": [
    "###  An average daily score of 0.0018 means that, on average, Top 200 stocks outperform Bottom 200 stocks by 0.18% per day."
   ]
  },
  {
   "cell_type": "markdown",
   "metadata": {},
   "source": [
    "### Ranked stocks"
   ]
  },
  {
   "cell_type": "code",
   "execution_count": 62,
   "metadata": {
    "execution": {
     "iopub.execute_input": "2025-05-13T07:46:00.769704Z",
     "iopub.status.busy": "2025-05-13T07:46:00.769288Z",
     "iopub.status.idle": "2025-05-13T07:46:00.793878Z",
     "shell.execute_reply": "2025-05-13T07:46:00.792898Z",
     "shell.execute_reply.started": "2025-05-13T07:46:00.769649Z"
    },
    "trusted": true
   },
   "outputs": [
    {
     "data": {
      "text/plain": [
       "196618       1.0\n",
       "238427       1.0\n",
       "258385       1.0\n",
       "242719       1.0\n",
       "256113       1.0\n",
       "           ...  \n",
       "234656    1989.0\n",
       "159789    1989.0\n",
       "214969    1990.0\n",
       "182219    1990.0\n",
       "183912    1991.0\n",
       "Name: rank, Length: 105264, dtype: float64"
      ]
     },
     "execution_count": 62,
     "metadata": {},
     "output_type": "execute_result"
    }
   ],
   "source": [
    "test_df[\"rank\"].sort_values()"
   ]
  }
 ],
 "metadata": {
  "kaggle": {
   "accelerator": "none",
   "dataSources": [
    {
     "databundleVersionId": 3935619,
     "sourceId": 34349,
     "sourceType": "competition"
    }
   ],
   "dockerImageVersionId": 30804,
   "isGpuEnabled": false,
   "isInternetEnabled": true,
   "language": "python",
   "sourceType": "notebook"
  },
  "kernelspec": {
   "display_name": "Python 3",
   "language": "python",
   "name": "python3"
  },
  "language_info": {
   "codemirror_mode": {
    "name": "ipython",
    "version": 3
   },
   "file_extension": ".py",
   "mimetype": "text/x-python",
   "name": "python",
   "nbconvert_exporter": "python",
   "pygments_lexer": "ipython3",
   "version": "3.10.14"
  }
 },
 "nbformat": 4,
 "nbformat_minor": 4
}
